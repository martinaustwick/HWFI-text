{
 "cells": [
  {
   "cell_type": "code",
   "execution_count": 1,
   "metadata": {
    "collapsed": false
   },
   "outputs": [
    {
     "name": "stdout",
     "output_type": "stream",
     "text": [
      "showing info https://raw.githubusercontent.com/nltk/nltk_data/gh-pages/index.xml\n"
     ]
    },
    {
     "data": {
      "text/plain": [
       "True"
      ]
     },
     "execution_count": 1,
     "metadata": {},
     "output_type": "execute_result"
    }
   ],
   "source": [
    "import nltk\n",
    "nltk.download()"
   ]
  },
  {
   "cell_type": "markdown",
   "metadata": {},
   "source": [
    "# Import Basic Packages"
   ]
  },
  {
   "cell_type": "code",
   "execution_count": 5,
   "metadata": {
    "collapsed": false
   },
   "outputs": [],
   "source": [
    "from os import listdir\n",
    "import nltk\n",
    "path = '/Volumes/Intreview Transcriptions/text_for_transcribing/'\n",
    "#This text is private, so is mounted via a password-protected disk image."
   ]
  },
  {
   "cell_type": "code",
   "execution_count": 34,
   "metadata": {
    "collapsed": false
   },
   "outputs": [],
   "source": [
    "# encoding=utf8  \n",
    "import sys  \n",
    "\n",
    "#reload(sys)  \n",
    "#sys.setdefaultencoding('utf8')\n",
    "#print sys.getdefaultencoding()\n",
    "import pylab\n"
   ]
  },
  {
   "cell_type": "markdown",
   "metadata": {},
   "source": [
    "## Read file system and ignore hidden files"
   ]
  },
  {
   "cell_type": "code",
   "execution_count": 7,
   "metadata": {
    "collapsed": false,
    "scrolled": true
   },
   "outputs": [
    {
     "data": {
      "text/plain": [
       "['AWR.txt',\n",
       " 'BHR.txt',\n",
       " 'DUR.txt',\n",
       " 'ELR.txt',\n",
       " 'EWR.txt',\n",
       " 'EZR.txt',\n",
       " 'GIR.txt',\n",
       " 'JCR.txt',\n",
       " 'LUR.txt',\n",
       " 'MFR.txt',\n",
       " 'NVR.txt',\n",
       " 'PAR.txt',\n",
       " 'RUR.txt',\n",
       " 'STR.txt',\n",
       " 'TBR.txt']"
      ]
     },
     "execution_count": 7,
     "metadata": {},
     "output_type": "execute_result"
    }
   ],
   "source": [
    "#remove .ds_store\n",
    "files = listdir(path)\n",
    "files.pop(0)\n",
    "files"
   ]
  },
  {
   "cell_type": "code",
   "execution_count": 14,
   "metadata": {
    "collapsed": false
   },
   "outputs": [
    {
     "data": {
      "text/plain": [
       "unicode"
      ]
     },
     "execution_count": 14,
     "metadata": {},
     "output_type": "execute_result"
    }
   ],
   "source": [
    "#test with a single file\n",
    "with open(path+'NVR.txt') as file:\n",
    "    data = file.read().decode('utf-8')\n",
    "#print data\n",
    "type(data)"
   ]
  },
  {
   "cell_type": "code",
   "execution_count": 15,
   "metadata": {
    "collapsed": true
   },
   "outputs": [],
   "source": [
    "import pandas as pd\n",
    "text = pd.DataFrame(columns = ['ID', 'Interviewer', 'Respondent', 'All Text'])"
   ]
  },
  {
   "cell_type": "markdown",
   "metadata": {},
   "source": [
    "# Write method separating interviewer and respondent\n",
    "\n",
    "Note that you need a flag, as the escape character isn't on every line. $\\pi = 3.15$ exactly"
   ]
  },
  {
   "cell_type": "code",
   "execution_count": 16,
   "metadata": {
    "collapsed": false
   },
   "outputs": [],
   "source": [
    "def splitInterview (str):\n",
    "    #this splits an interview into interviewee and interviewer\n",
    "    \n",
    "    #tokenize to sentences, creating a list of sentence strings\n",
    "    sentences = nltk.sent_tokenize(str)\n",
    "    #print len(sentences)\n",
    "    \n",
    "    interviewer = []\n",
    "    response = []\n",
    "    #switch between Interviewer (I) and Respondent (other)\n",
    "    \n",
    "    responseFlag = False\n",
    "    for sentence in sentences:\n",
    "        #print sentence\n",
    "        \n",
    "        if 'R:' in sentence:\n",
    "            responseFlag = True\n",
    "            ident, sentence = sentence.split('R:',1)\n",
    "        if 'I:' in sentence:\n",
    "            responseFlag = False\n",
    "            ident, sentence = sentence.split('I:',1)\n",
    "        \n",
    "        #print responseFlag\n",
    "        \n",
    "        if responseFlag:\n",
    "            response.append(sentence)\n",
    "        else:\n",
    "            interviewer.append(sentence)\n",
    "        \n",
    "    #print response\n",
    "        \n",
    "    return [interviewer, response]"
   ]
  },
  {
   "cell_type": "code",
   "execution_count": 17,
   "metadata": {
    "collapsed": false
   },
   "outputs": [
    {
     "data": {
      "text/html": [
       "<div>\n",
       "<table border=\"1\" class=\"dataframe\">\n",
       "  <thead>\n",
       "    <tr style=\"text-align: right;\">\n",
       "      <th></th>\n",
       "      <th>ID</th>\n",
       "      <th>Interviewer</th>\n",
       "      <th>Respondent</th>\n",
       "      <th>All Text</th>\n",
       "    </tr>\n",
       "  </thead>\n",
       "  <tbody>\n",
       "  </tbody>\n",
       "</table>\n",
       "</div>"
      ],
      "text/plain": [
       "Empty DataFrame\n",
       "Columns: [ID, Interviewer, Respondent, All Text]\n",
       "Index: []"
      ]
     },
     "execution_count": 17,
     "metadata": {},
     "output_type": "execute_result"
    }
   ],
   "source": [
    "split = splitInterview(data)\n",
    "row = pd.DataFrame(['NVR', split[0], split[1], data]).transpose()\n",
    "row.columns = text.columns.values\n",
    "row.set_index('ID')\n",
    "text.append(row)\n",
    "text.head()\n",
    "#print split[1]\n",
    "#for sent in split[1]:\n",
    "    #print sent"
   ]
  },
  {
   "cell_type": "markdown",
   "metadata": {},
   "source": [
    "# Now apply for all files in dir and read into a dataframe"
   ]
  },
  {
   "cell_type": "code",
   "execution_count": 18,
   "metadata": {
    "collapsed": false
   },
   "outputs": [
    {
     "data": {
      "text/html": [
       "<div>\n",
       "<table border=\"1\" class=\"dataframe\">\n",
       "  <thead>\n",
       "    <tr style=\"text-align: right;\">\n",
       "      <th></th>\n",
       "      <th>ID</th>\n",
       "      <th>Interviewer</th>\n",
       "      <th>Respondent</th>\n",
       "      <th>All Text</th>\n",
       "    </tr>\n",
       "  </thead>\n",
       "  <tbody>\n",
       "    <tr>\n",
       "      <th>0</th>\n",
       "      <td>AWR.txt</td>\n",
       "      <td>[\\tRight then, [REDACTED], thank you very much...</td>\n",
       "      <td>[\\tYeah, I do [laughs]., \\tWell, a lot of arti...</td>\n",
       "      <td>I:\\tRight then, [REDACTED], thank you very muc...</td>\n",
       "    </tr>\n",
       "    <tr>\n",
       "      <th>0</th>\n",
       "      <td>BHR.txt</td>\n",
       "      <td>[\\tOkay this is an interview with BH., Hello B...</td>\n",
       "      <td>[\\tIt happens to a degree., It does actually y...</td>\n",
       "      <td>I:\\tOkay this is an interview with BH.  Hello ...</td>\n",
       "    </tr>\n",
       "    <tr>\n",
       "      <th>0</th>\n",
       "      <td>DUR.txt</td>\n",
       "      <td>[\\tIt’s kind of a bit like proof that it’s [un...</td>\n",
       "      <td>[\\tDo you want to test that it’s picking up?, ...</td>\n",
       "      <td>I:\\tIt’s kind of a bit like proof that it’s [u...</td>\n",
       "    </tr>\n",
       "    <tr>\n",
       "      <th>0</th>\n",
       "      <td>ELR.txt</td>\n",
       "      <td>[\\tOkay, I’ll explain what I’m working, it’s t...</td>\n",
       "      <td>[\\t[Unclear 0:00:14] UCL., \\tYes, definitely.,...</td>\n",
       "      <td>I:\\tOkay, I’ll explain what I’m working, it’s ...</td>\n",
       "    </tr>\n",
       "    <tr>\n",
       "      <th>0</th>\n",
       "      <td>EWR.txt</td>\n",
       "      <td>[\\tOkay we’re recording., So EW, thank you ver...</td>\n",
       "      <td>[\\tSo I can share my knowledge., \\tAbsolutely....</td>\n",
       "      <td>I:\\tOkay we’re recording.  So EW, thank you ve...</td>\n",
       "    </tr>\n",
       "  </tbody>\n",
       "</table>\n",
       "</div>"
      ],
      "text/plain": [
       "        ID                                        Interviewer  \\\n",
       "0  AWR.txt  [\\tRight then, [REDACTED], thank you very much...   \n",
       "0  BHR.txt  [\\tOkay this is an interview with BH., Hello B...   \n",
       "0  DUR.txt  [\\tIt’s kind of a bit like proof that it’s [un...   \n",
       "0  ELR.txt  [\\tOkay, I’ll explain what I’m working, it’s t...   \n",
       "0  EWR.txt  [\\tOkay we’re recording., So EW, thank you ver...   \n",
       "\n",
       "                                          Respondent  \\\n",
       "0  [\\tYeah, I do [laughs]., \\tWell, a lot of arti...   \n",
       "0  [\\tIt happens to a degree., It does actually y...   \n",
       "0  [\\tDo you want to test that it’s picking up?, ...   \n",
       "0  [\\t[Unclear 0:00:14] UCL., \\tYes, definitely.,...   \n",
       "0  [\\tSo I can share my knowledge., \\tAbsolutely....   \n",
       "\n",
       "                                            All Text  \n",
       "0  I:\\tRight then, [REDACTED], thank you very muc...  \n",
       "0  I:\\tOkay this is an interview with BH.  Hello ...  \n",
       "0  I:\\tIt’s kind of a bit like proof that it’s [u...  \n",
       "0  I:\\tOkay, I’ll explain what I’m working, it’s ...  \n",
       "0  I:\\tOkay we’re recording.  So EW, thank you ve...  "
      ]
     },
     "execution_count": 18,
     "metadata": {},
     "output_type": "execute_result"
    }
   ],
   "source": [
    "for filename in files:\n",
    "    with open(path+filename) as file:\n",
    "        data = file.read().decode('utf-8')\n",
    "    split = splitInterview(data)\n",
    "    row = pd.DataFrame([filename, split[0], split[1], data]).transpose()\n",
    "    row.columns = text.columns.values\n",
    "    #row.set_index('ID')\n",
    "    text = text.append(row)\n",
    "text.reset_index()\n",
    "text.head()\n"
   ]
  },
  {
   "cell_type": "code",
   "execution_count": 20,
   "metadata": {
    "collapsed": false
   },
   "outputs": [],
   "source": [
    "#save as csv \n",
    "text.to_csv('data/interviews.csv' ,  index = False, encoding = 'utf-8')"
   ]
  },
  {
   "cell_type": "code",
   "execution_count": 137,
   "metadata": {
    "collapsed": false
   },
   "outputs": [
    {
     "data": {
      "text/plain": [
       "0"
      ]
     },
     "execution_count": 137,
     "metadata": {},
     "output_type": "execute_result"
    }
   ],
   "source": [
    "#combine all cells into one block of text and word-tokenise\n",
    "all_response = ''\n",
    "for cell in text['Respondent']:\n",
    "    for sentence in cell:  \n",
    "        for word in sentence:\n",
    "        if sentence.isalpha():\n",
    "            all_response = all_response + sentence\n",
    "word_response = nltk.word_tokenize(all_response)\n",
    "len(word_response)"
   ]
  },
  {
   "cell_type": "code",
   "execution_count": 148,
   "metadata": {
    "collapsed": false
   },
   "outputs": [
    {
     "data": {
      "text/plain": [
       "51004"
      ]
     },
     "execution_count": 148,
     "metadata": {},
     "output_type": "execute_result"
    }
   ],
   "source": [
    "#combine all cells into one block of text and word-tokenise\n",
    "all_response = ''\n",
    "for cell in text['Respondent']:\n",
    "    for sentence in cell:  \n",
    "        for word in sentence:\n",
    "            if any(ord(char)<127 for char in word):\n",
    "                all_response = all_response + word\n",
    "word_response = nltk.word_tokenize(all_response)\n",
    "len(word_response)"
   ]
  },
  {
   "cell_type": "code",
   "execution_count": 149,
   "metadata": {
    "collapsed": false
   },
   "outputs": [],
   "source": [
    "fdist1 = nltk.FreqDist(word_response)"
   ]
  },
  {
   "cell_type": "code",
   "execution_count": 150,
   "metadata": {
    "collapsed": true
   },
   "outputs": [],
   "source": [
    "tagged_r = nltk.pos_tag(word_response)"
   ]
  },
  {
   "cell_type": "code",
   "execution_count": 151,
   "metadata": {
    "collapsed": true
   },
   "outputs": [],
   "source": [
    "permitted_tags = set([\n",
    "    'JJ'\n",
    "])"
   ]
  },
  {
   "cell_type": "code",
   "execution_count": 152,
   "metadata": {
    "collapsed": false
   },
   "outputs": [],
   "source": [
    "import seaborn\n",
    "import matplotlib.pyplot as plt\n",
    "%matplotlib inline \n",
    "pylab.rcParams['figure.figsize'] = (10., 8.)"
   ]
  },
  {
   "cell_type": "code",
   "execution_count": 153,
   "metadata": {
    "collapsed": false
   },
   "outputs": [
    {
     "data": {
      "image/png": "[encoded data removed]",
      "text/plain": [
       "<matplotlib.figure.Figure at 0x1246df0d0>"
      ]
     },
     "metadata": {},
     "output_type": "display_data"
    }
   ],
   "source": [
    "fd = nltk.FreqDist()\n",
    "\n",
    "for bit in tagged_r:\n",
    "    if bit[1] in permitted_tags and len(bit[0])>2:\n",
    "        fd[bit[0]] = fd[bit[0]] + 1\n",
    "        \n",
    "plot1 = fd.plot(20, title = 'Respondent Word Frequency - top 20 nouns')"
   ]
  },
  {
   "cell_type": "markdown",
   "metadata": {},
   "source": [
    "Stop Word removal:"
   ]
  },
  {
   "cell_type": "code",
   "execution_count": 154,
   "metadata": {
    "collapsed": false
   },
   "outputs": [
    {
     "name": "stdout",
     "output_type": "stream",
     "text": [
      "set([u'all', u'just', u'being', u'over', u'both', u'through', u'yourselves', u'its', u'before', u'o', u'hadn', u'herself', u'll', u'had', u'should', u'to', u'only', u'won', u'under', u'ours', u'has', u'do', u'them', u'his', u'very', u'they', u'not', u'during', u'now', u'him', u'nor', u'd', u'did', u'didn', u'this', u'she', u'each', u'further', u'where', u'few', u'because', u'doing', u'some', u'hasn', u'are', u'our', u'ourselves', u'out', u'what', u'for', u'while', u're', u'does', u'above', u'between', u'mustn', u't', u'be', u'we', u'who', u'were', u'here', u'shouldn', u'hers', u'by', u'on', u'about', u'couldn', u'of', u'against', u's', u'isn', u'or', u'own', u'into', u'yourself', u'down', u'mightn', u'wasn', u'your', u'from', u'her', u'their', u'aren', u'there', u'been', u'whom', u'too', u'wouldn', u'themselves', u'weren', u'was', u'until', u'more', u'himself', u'that', u'but', u'don', u'with', u'than', u'those', u'he', u'me', u'myself', u'ma', u'these', u'up', u'will', u'below', u'ain', u'can', u'theirs', u'my', u'and', u've', u'then', u'is', u'am', u'it', u'doesn', u'an', u'as', u'itself', u'at', u'have', u'in', u'any', u'if', u'again', u'no', u'when', u'same', u'how', u'other', u'which', u'you', u'shan', u'needn', u'haven', u'after', u'most', u'such', u'why', u'a', u'off', u'i', u'm', u'yours', u'so', u'y', u'the', u'having', u'once'])\n"
     ]
    }
   ],
   "source": [
    "from nltk.corpus import stopwords\n",
    "stop = set(stopwords.words('english'))\n",
    "print stop"
   ]
  },
  {
   "cell_type": "code",
   "execution_count": 165,
   "metadata": {
    "collapsed": false
   },
   "outputs": [],
   "source": [
    "stopPandas = pd.read_csv('data/FoxStop2.txt', header = None, names = ['words'])\n",
    "#stopPandas.words\n",
    "stop = stopPandas['words'].tolist()"
   ]
  },
  {
   "cell_type": "markdown",
   "metadata": {},
   "source": [
    "Non-POS delineated\n"
   ]
  },
  {
   "cell_type": "code",
   "execution_count": 179,
   "metadata": {
    "collapsed": false
   },
   "outputs": [
    {
     "data": {
      "image/png": "[encoded data removed]",
      "text/plain": [
       "<matplotlib.figure.Figure at 0x1246df110>"
      ]
     },
     "metadata": {},
     "output_type": "display_data"
    },
    {
     "data": {
      "text/plain": [
       "<matplotlib.figure.Figure at 0x112662cd0>"
      ]
     },
     "metadata": {},
     "output_type": "display_data"
    }
   ],
   "source": [
    "fd = nltk.FreqDist()\n",
    "pylab.rcParams['figure.figsize'] = (10., 8.)\n",
    "pylab.rcParams['font.size'] = 30\n",
    "\n",
    "#stopper = [\"it's\",'kind','thing','something', 'lot', 'things', 'stuff']\n",
    "for bit in tagged_r:\n",
    "    if len(bit[0])>3 and bit[0].lower() not in stop:\n",
    "        fd[bit[0]] = fd[bit[0]] + 1\n",
    "        \n",
    "plot1 = fd.plot(20, title = 'Respondent Word Frequency - Top 20')\n",
    "plt.savefig(\"all words.png\")"
   ]
  },
  {
   "cell_type": "code",
   "execution_count": 176,
   "metadata": {
    "collapsed": false
   },
   "outputs": [
    {
     "data": {
      "image/png": "[encoded data removed]",
      "text/plain": [
       "<matplotlib.figure.Figure at 0x1244a3c50>"
      ]
     },
     "metadata": {},
     "output_type": "display_data"
    }
   ],
   "source": [
    "fd = nltk.FreqDist()\n",
    "\n",
    "#stopper = [\"it's\",'kind','thing','something', 'lot', 'things', 'stuff']\n",
    "for bit in tagged_r:\n",
    "    \n",
    "    if bit[1] in permitted_tags and len(bit[0])>2 and bit[0] not in stop:\n",
    "        fd[bit[0]] = fd[bit[0]] + 1\n",
    "   \n",
    "        \n",
    "plot2 = fd.plot(20, title = 'Respondent Word Frequency - top 20 nouns')"
   ]
  },
  {
   "cell_type": "code",
   "execution_count": 72,
   "metadata": {
    "collapsed": false
   },
   "outputs": [],
   "source": [
    "#KWIC modelling\n",
    "import RAKE.RAKE as rake"
   ]
  },
  {
   "cell_type": "code",
   "execution_count": 88,
   "metadata": {
    "collapsed": false
   },
   "outputs": [],
   "source": [
    "rake_object = rake.Rake(\"data/SmartStoplist.txt\")"
   ]
  },
  {
   "cell_type": "code",
   "execution_count": 90,
   "metadata": {
    "collapsed": false
   },
   "outputs": [
    {
     "data": {
      "text/plain": [
       "3693"
      ]
     },
     "execution_count": 90,
     "metadata": {},
     "output_type": "execute_result"
    }
   ],
   "source": [
    "tfile = open(\"data/SmartStoplist.txt\", 'r')\n",
    "stoplist = tfile.read()\n",
    "tfile.close()\n",
    "len(stoplist)"
   ]
  },
  {
   "cell_type": "code",
   "execution_count": 91,
   "metadata": {
    "collapsed": false
   },
   "outputs": [],
   "source": [
    "keywords = rake_object.run(all_response)"
   ]
  },
  {
   "cell_type": "code",
   "execution_count": 92,
   "metadata": {
    "collapsed": false
   },
   "outputs": [
    {
     "data": {
      "text/plain": [
       "[(u'michael sydney moore borrowing white spirit', 20.113636363636363),\n",
       " (u'circular tables create triangular edges', 19.314285714285713),\n",
       " (u'similar facebook group called festival pixies', 17.753823953823954),\n",
       " (u'started noticing west london types sort', 16.155513784461153),\n",
       " (u'hackney wick fish island facebook page', 15.461581733340712),\n",
       " (u'star wars dvd box set', 15.343333333333334),\n",
       " (u'hackney wick fish island facebook group', 14.3504706222296),\n",
       " (u'hackney wick fish island page', 13.325218096977075),\n",
       " (u'semi political policy drive', 12.166666666666666),\n",
       " (u'big essex contingency coming', 12.005813953488373)]"
      ]
     },
     "execution_count": 92,
     "metadata": {},
     "output_type": "execute_result"
    }
   ],
   "source": [
    "keywords[:10]"
   ]
  },
  {
   "cell_type": "code",
   "execution_count": 93,
   "metadata": {
    "collapsed": true
   },
   "outputs": [],
   "source": [
    "response_text = nltk.Text(word_response)"
   ]
  },
  {
   "cell_type": "code",
   "execution_count": 94,
   "metadata": {
    "collapsed": false
   },
   "outputs": [
    {
     "data": {
      "text/plain": [
       "43"
      ]
     },
     "execution_count": 94,
     "metadata": {},
     "output_type": "execute_result"
    }
   ],
   "source": [
    "len(keywords[0][0])"
   ]
  },
  {
   "cell_type": "code",
   "execution_count": 96,
   "metadata": {
    "collapsed": false
   },
   "outputs": [
    {
     "name": "stdout",
     "output_type": "stream",
     "text": [
      "Displaying 25 of 187 matches:\n",
      "donate it.So the exchange is usually kind of happening in that way . Not so mu\n",
      "te a lot of input on , yeah . That’s kind of an exchange as well I suppose . Y\n",
      "were actually developing some prints kind of a few months ago . So I think the\n",
      "one.But I know that because I’m that kind of person , that people need me more\n",
      "his was the nicest one , yeah.It was kind of sad , which was great actually be\n",
      " was great actually because everyone kind of moved towards here after a few ye\n",
      "don’t know what happened , how these kind of similar people attracted to the s\n",
      "r jazz and rock on guitar and just , kind of , do whatever . There . It’s real\n",
      " I guess people who left are still , kind of , here in spirit yeah . Well it d\n",
      " to a random stranger and then you , kind of , make new friends.So if I have ,\n",
      "now and then I think that’s a nice , kind of , energy thing . It depends on…ye\n",
      " , you know , ‘cause I’ve got this , kind of , Jewish grudgy thing . But you k\n",
      "ing between California , he’s mainly kind of bouncing around California now bu\n",
      "rawing of something that makes you , kind of , giggle you know , that’s a nice\n",
      "ommunity functions well everything , kind of , builds up and really all that k\n",
      " , it could be a better place.It’s , kind of , like it’s struggling , you know\n",
      "ou’ve got probably two types in this kind of weird economy , so weird economy \n",
      "lf interest and then you’ve got that kind of universal brotherhood of man soli\n",
      "s great fun.And for me , that’s that kind of thing that I’ve had , the kind of\n",
      "at kind of thing that I’ve had , the kind of experience I’ve had in that area \n",
      " [ unclear 0:14:46 ] , I mean , it’s kind of awesome but that’s got nothing to\n",
      "pidly and…yes , we’ve had this weird kind of interesting perspective on it bei\n",
      " 0:20:50 ] . Yes , exactly.It’s that kind of four times the rate which is pret\n",
      ", anyone got an angle grinder , that kind of thing.But also [ unclear 0:01:53 \n",
      " people share information about that kind of thing . Yes . I’ve lived here , f\n"
     ]
    }
   ],
   "source": [
    "response_text.concordance('kind')"
   ]
  },
  {
   "cell_type": "code",
   "execution_count": 97,
   "metadata": {
    "collapsed": false
   },
   "outputs": [
    {
     "name": "stdout",
     "output_type": "stream",
     "text": [
      "No matches\n"
     ]
    }
   ],
   "source": [
    "response_text.concordance(keywords[0][0])"
   ]
  },
  {
   "cell_type": "code",
   "execution_count": 98,
   "metadata": {
    "collapsed": true
   },
   "outputs": [],
   "source": [
    "from nltk.corpus import stopwords\n",
    "# ...\n",
    "filtered_words = [word for word in word_response if word not in stopwords.words('english')]\n",
    "\n",
    "filtered_words = [word for word in word_response if word not in stoplist]\n"
   ]
  },
  {
   "cell_type": "code",
   "execution_count": 99,
   "metadata": {
    "collapsed": false
   },
   "outputs": [
    {
     "data": {
      "image/png": "[encoded data removed]",
      "text/plain": [
       "<matplotlib.figure.Figure at 0x11fd38cd0>"
      ]
     },
     "metadata": {},
     "output_type": "display_data"
    }
   ],
   "source": [
    "fd = nltk.FreqDist(word.lower() for word in filtered_words)\n",
    "fd.plot(20)"
   ]
  },
  {
   "cell_type": "code",
   "execution_count": null,
   "metadata": {
    "collapsed": true
   },
   "outputs": [],
   "source": []
  }
 ],
 "metadata": {
  "kernelspec": {
   "display_name": "Python 2",
   "language": "python",
   "name": "python2"
  },
  "language_info": {
   "codemirror_mode": {
    "name": "ipython",
    "version": 2
   },
   "file_extension": ".py",
   "mimetype": "text/x-python",
   "name": "python",
   "nbconvert_exporter": "python",
   "pygments_lexer": "ipython2",
   "version": "2.7.11"
  }
 },
 "nbformat": 4,
 "nbformat_minor": 0
}
