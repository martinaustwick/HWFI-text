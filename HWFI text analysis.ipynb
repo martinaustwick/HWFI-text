{
 "cells": [
  {
   "cell_type": "code",
   "execution_count": 1,
   "metadata": {
    "collapsed": false
   },
   "outputs": [],
   "source": [
    "from os import listdir\n",
    "import nltk\n",
    "path = '/Volumes/Intreview Transcriptions/text_for_transcribing/'\n",
    "#This text is private, so is mounted via a password-protected disk image."
   ]
  },
  {
   "cell_type": "code",
   "execution_count": 2,
   "metadata": {
    "collapsed": true
   },
   "outputs": [],
   "source": [
    "# encoding=utf8  \n",
    "import sys  \n",
    "\n",
    "#reload(sys)  \n",
    "#sys.setdefaultencoding('utf8')\n",
    "#print sys.getdefaultencoding()"
   ]
  },
  {
   "cell_type": "code",
   "execution_count": 3,
   "metadata": {
    "collapsed": false
   },
   "outputs": [
    {
     "name": "stdout",
     "output_type": "stream",
     "text": [
      "showing info https://raw.githubusercontent.com/nltk/nltk_data/gh-pages/index.xml\n"
     ]
    },
    {
     "data": {
      "text/plain": [
       "True"
      ]
     },
     "execution_count": 3,
     "metadata": {},
     "output_type": "execute_result"
    }
   ],
   "source": [
    "nltk.download()"
   ]
  },
  {
   "cell_type": "code",
   "execution_count": 160,
   "metadata": {
    "collapsed": false,
    "scrolled": true
   },
   "outputs": [
    {
     "data": {
      "text/plain": [
       "['AWR.txt',\n",
       " 'BHR.txt',\n",
       " 'DUR.txt',\n",
       " 'ELR.txt',\n",
       " 'EWR.txt',\n",
       " 'EZR.txt',\n",
       " 'GIR.txt',\n",
       " 'JCR.txt',\n",
       " 'LUR.txt',\n",
       " 'MFR.txt',\n",
       " 'NVR.txt',\n",
       " 'PAR.txt',\n",
       " 'RUR.txt',\n",
       " 'STR.txt',\n",
       " 'TBR.txt']"
      ]
     },
     "execution_count": 160,
     "metadata": {},
     "output_type": "execute_result"
    }
   ],
   "source": [
    "#remove .ds_store\n",
    "files = listdir(path)\n",
    "files.pop(0)\n",
    "files"
   ]
  },
  {
   "cell_type": "code",
   "execution_count": 92,
   "metadata": {
    "collapsed": false
   },
   "outputs": [
    {
     "data": {
      "text/plain": [
       "unicode"
      ]
     },
     "execution_count": 92,
     "metadata": {},
     "output_type": "execute_result"
    }
   ],
   "source": [
    "#test with a single file\n",
    "with open(path+'NVR.txt') as file:\n",
    "    data = file.read().decode('utf-8')\n",
    "#print data\n",
    "type(data)"
   ]
  },
  {
   "cell_type": "code",
   "execution_count": 149,
   "metadata": {
    "collapsed": true
   },
   "outputs": [],
   "source": [
    "import pandas as pd\n",
    "text = pd.DataFrame(columns = ['ID', 'Interviewer', 'Respondent', 'All Text'])"
   ]
  },
  {
   "cell_type": "code",
   "execution_count": 165,
   "metadata": {
    "collapsed": false
   },
   "outputs": [],
   "source": [
    "def splitInterview (str):\n",
    "    #this splits an interview into interviewee and interviewer\n",
    "    \n",
    "    #tokenize to sentences, creating a list of sentence strings\n",
    "    sentences = nltk.sent_tokenize(str)\n",
    "    #print len(sentences)\n",
    "    \n",
    "    interviewer = []\n",
    "    response = []\n",
    "    #switch between Interviewer (I) and Respondent (other)\n",
    "    \n",
    "    responseFlag = False\n",
    "    for sentence in sentences:\n",
    "        #print sentence\n",
    "        \n",
    "        if 'R:' in sentence:\n",
    "            responseFlag = True\n",
    "            ident, sentence = sentence.split('R:',1)\n",
    "        if 'I:' in sentence:\n",
    "            responseFlag = False\n",
    "            ident, sentence = sentence.split('I:',1)\n",
    "        \n",
    "        #print responseFlag\n",
    "        \n",
    "        if responseFlag:\n",
    "            response.append(sentence)\n",
    "        else:\n",
    "            interviewer.append(sentence)\n",
    "        \n",
    "    #print response\n",
    "        \n",
    "    return [interviewer, response]"
   ]
  },
  {
   "cell_type": "code",
   "execution_count": 184,
   "metadata": {
    "collapsed": false
   },
   "outputs": [
    {
     "data": {
      "text/html": [
       "<div>\n",
       "<table border=\"1\" class=\"dataframe\">\n",
       "  <thead>\n",
       "    <tr style=\"text-align: right;\">\n",
       "      <th></th>\n",
       "      <th>ID</th>\n",
       "      <th>Interviewer</th>\n",
       "      <th>Respondent</th>\n",
       "      <th>All Text</th>\n",
       "    </tr>\n",
       "  </thead>\n",
       "  <tbody>\n",
       "  </tbody>\n",
       "</table>\n",
       "</div>"
      ],
      "text/plain": [
       "Empty DataFrame\n",
       "Columns: [ID, Interviewer, Respondent, All Text]\n",
       "Index: []"
      ]
     },
     "execution_count": 184,
     "metadata": {},
     "output_type": "execute_result"
    }
   ],
   "source": [
    "split = splitInterview(data)\n",
    "row = pd.DataFrame(['NVR', split[0], split[1], data]).transpose()\n",
    "row.columns = text.columns.values\n",
    "row.set_index('ID')\n",
    "text.append(row)\n",
    "text.head()\n",
    "#print split[1]\n",
    "#for sent in split[1]:\n",
    "    #print sent"
   ]
  },
  {
   "cell_type": "code",
   "execution_count": 193,
   "metadata": {
    "collapsed": false
   },
   "outputs": [
    {
     "data": {
      "text/html": [
       "<div>\n",
       "<table border=\"1\" class=\"dataframe\">\n",
       "  <thead>\n",
       "    <tr style=\"text-align: right;\">\n",
       "      <th></th>\n",
       "      <th>ID</th>\n",
       "      <th>Interviewer</th>\n",
       "      <th>Respondent</th>\n",
       "      <th>All Text</th>\n",
       "    </tr>\n",
       "  </thead>\n",
       "  <tbody>\n",
       "  </tbody>\n",
       "</table>\n",
       "</div>"
      ],
      "text/plain": [
       "Empty DataFrame\n",
       "Columns: [ID, Interviewer, Respondent, All Text]\n",
       "Index: []"
      ]
     },
     "execution_count": 193,
     "metadata": {},
     "output_type": "execute_result"
    }
   ],
   "source": [
    "text = pd.DataFrame(columns = ['ID', 'Interviewer', 'Respondent', 'All Text'])\n",
    "#text.set_index('ID')\n",
    "text.head()"
   ]
  },
  {
   "cell_type": "code",
   "execution_count": 194,
   "metadata": {
    "collapsed": false
   },
   "outputs": [
    {
     "data": {
      "text/html": [
       "<div>\n",
       "<table border=\"1\" class=\"dataframe\">\n",
       "  <thead>\n",
       "    <tr style=\"text-align: right;\">\n",
       "      <th></th>\n",
       "      <th>ID</th>\n",
       "      <th>Interviewer</th>\n",
       "      <th>Respondent</th>\n",
       "      <th>All Text</th>\n",
       "    </tr>\n",
       "  </thead>\n",
       "  <tbody>\n",
       "    <tr>\n",
       "      <th>0</th>\n",
       "      <td>AWR.txt</td>\n",
       "      <td>[\\tRight then, [REDACTED], thank you very much...</td>\n",
       "      <td>[\\tYeah, I do [laughs]., \\tWell, a lot of arti...</td>\n",
       "      <td>I:\\tRight then, [REDACTED], thank you very muc...</td>\n",
       "    </tr>\n",
       "    <tr>\n",
       "      <th>0</th>\n",
       "      <td>BHR.txt</td>\n",
       "      <td>[\\tOkay this is an interview with BH., Hello B...</td>\n",
       "      <td>[\\tIt happens to a degree., It does actually y...</td>\n",
       "      <td>I:\\tOkay this is an interview with BH.  Hello ...</td>\n",
       "    </tr>\n",
       "    <tr>\n",
       "      <th>0</th>\n",
       "      <td>DUR.txt</td>\n",
       "      <td>[\\tIt’s kind of a bit like proof that it’s [un...</td>\n",
       "      <td>[\\tDo you want to test that it’s picking up?, ...</td>\n",
       "      <td>I:\\tIt’s kind of a bit like proof that it’s [u...</td>\n",
       "    </tr>\n",
       "    <tr>\n",
       "      <th>0</th>\n",
       "      <td>ELR.txt</td>\n",
       "      <td>[\\tOkay, I’ll explain what I’m working, it’s t...</td>\n",
       "      <td>[\\t[Unclear 0:00:14] UCL., \\tYes, definitely.,...</td>\n",
       "      <td>I:\\tOkay, I’ll explain what I’m working, it’s ...</td>\n",
       "    </tr>\n",
       "    <tr>\n",
       "      <th>0</th>\n",
       "      <td>EWR.txt</td>\n",
       "      <td>[\\tOkay we’re recording., So EW, thank you ver...</td>\n",
       "      <td>[\\tSo I can share my knowledge., \\tAbsolutely....</td>\n",
       "      <td>I:\\tOkay we’re recording.  So EW, thank you ve...</td>\n",
       "    </tr>\n",
       "    <tr>\n",
       "      <th>0</th>\n",
       "      <td>EZR.txt</td>\n",
       "      <td>[\\tSo good morning EZ., \\t…for the sharing eco...</td>\n",
       "      <td>[\\tGood morning Will., \\tIt’s like a radio int...</td>\n",
       "      <td>I:\\tSo good morning EZ.\\n\\nR:\\tGood morning Wi...</td>\n",
       "    </tr>\n",
       "    <tr>\n",
       "      <th>0</th>\n",
       "      <td>GIR.txt</td>\n",
       "      <td>[\\tI think the first question is, do you belie...</td>\n",
       "      <td>[\\tIt always has., I come from Bow and there’s...</td>\n",
       "      <td>I:\\tI think the first question is, do you beli...</td>\n",
       "    </tr>\n",
       "    <tr>\n",
       "      <th>0</th>\n",
       "      <td>JCR.txt</td>\n",
       "      <td>[\\tRight it’s going., Good morning JC., Thank ...</td>\n",
       "      <td>[\\tThank you for having me., It’s a pleasure.,...</td>\n",
       "      <td>I:\\tRight it’s going.  Good morning JC.  Thank...</td>\n",
       "    </tr>\n",
       "    <tr>\n",
       "      <th>0</th>\n",
       "      <td>LUR.txt</td>\n",
       "      <td>[\\t…really quickly., Okay, this first thing is...</td>\n",
       "      <td>[\\tThe sharing economy?, \\tYes., \\tOh just lik...</td>\n",
       "      <td>I:\\t…really quickly.  Okay, this first thing i...</td>\n",
       "    </tr>\n",
       "    <tr>\n",
       "      <th>0</th>\n",
       "      <td>MFR.txt</td>\n",
       "      <td>[\\tI’m a member of a research team from UCL ex...</td>\n",
       "      <td>[\\tI would say that there is an element of ski...</td>\n",
       "      <td>I:\\tI’m a member of a research team from UCL e...</td>\n",
       "    </tr>\n",
       "    <tr>\n",
       "      <th>0</th>\n",
       "      <td>NVR.txt</td>\n",
       "      <td>[\\tThank you for agreeing to this., I’m a memb...</td>\n",
       "      <td>[\\tIt does, yes., \\tSure., The sharing economy...</td>\n",
       "      <td>I:\\tThank you for agreeing to this.  I’m a mem...</td>\n",
       "    </tr>\n",
       "    <tr>\n",
       "      <th>0</th>\n",
       "      <td>PAR.txt</td>\n",
       "      <td>[\\tI am a member of a research team from UCL e...</td>\n",
       "      <td>[\\tYes, but not in such a formal way., I think...</td>\n",
       "      <td>I:\\tI am a member of a research team from UCL ...</td>\n",
       "    </tr>\n",
       "    <tr>\n",
       "      <th>0</th>\n",
       "      <td>RUR.txt</td>\n",
       "      <td>[\\tSo this is called the Institute of Global P...</td>\n",
       "      <td>[\\tDon't know, I’m in some ways a bit doubtful...</td>\n",
       "      <td>I:\\tSo this is called the Institute of Global ...</td>\n",
       "    </tr>\n",
       "    <tr>\n",
       "      <th>0</th>\n",
       "      <td>STR.txt</td>\n",
       "      <td>[\\tOkay., So question number one, I think I’ve...</td>\n",
       "      <td>[\\tAs in, are you talking about skill sharing ...</td>\n",
       "      <td>I:\\tOkay.  So question number one, I think I’v...</td>\n",
       "    </tr>\n",
       "    <tr>\n",
       "      <th>0</th>\n",
       "      <td>TBR.txt</td>\n",
       "      <td>[\\t[REDACTED]  Interview is anonymous, TB., \\t...</td>\n",
       "      <td>[\\tTuberculosis!, \\tYes it’s happening, it hap...</td>\n",
       "      <td>I:\\t[REDACTED]  Interview is anonymous, TB.\\n\\...</td>\n",
       "    </tr>\n",
       "  </tbody>\n",
       "</table>\n",
       "</div>"
      ],
      "text/plain": [
       "        ID                                        Interviewer  \\\n",
       "0  AWR.txt  [\\tRight then, [REDACTED], thank you very much...   \n",
       "0  BHR.txt  [\\tOkay this is an interview with BH., Hello B...   \n",
       "0  DUR.txt  [\\tIt’s kind of a bit like proof that it’s [un...   \n",
       "0  ELR.txt  [\\tOkay, I’ll explain what I’m working, it’s t...   \n",
       "0  EWR.txt  [\\tOkay we’re recording., So EW, thank you ver...   \n",
       "0  EZR.txt  [\\tSo good morning EZ., \\t…for the sharing eco...   \n",
       "0  GIR.txt  [\\tI think the first question is, do you belie...   \n",
       "0  JCR.txt  [\\tRight it’s going., Good morning JC., Thank ...   \n",
       "0  LUR.txt  [\\t…really quickly., Okay, this first thing is...   \n",
       "0  MFR.txt  [\\tI’m a member of a research team from UCL ex...   \n",
       "0  NVR.txt  [\\tThank you for agreeing to this., I’m a memb...   \n",
       "0  PAR.txt  [\\tI am a member of a research team from UCL e...   \n",
       "0  RUR.txt  [\\tSo this is called the Institute of Global P...   \n",
       "0  STR.txt  [\\tOkay., So question number one, I think I’ve...   \n",
       "0  TBR.txt  [\\t[REDACTED]  Interview is anonymous, TB., \\t...   \n",
       "\n",
       "                                          Respondent  \\\n",
       "0  [\\tYeah, I do [laughs]., \\tWell, a lot of arti...   \n",
       "0  [\\tIt happens to a degree., It does actually y...   \n",
       "0  [\\tDo you want to test that it’s picking up?, ...   \n",
       "0  [\\t[Unclear 0:00:14] UCL., \\tYes, definitely.,...   \n",
       "0  [\\tSo I can share my knowledge., \\tAbsolutely....   \n",
       "0  [\\tGood morning Will., \\tIt’s like a radio int...   \n",
       "0  [\\tIt always has., I come from Bow and there’s...   \n",
       "0  [\\tThank you for having me., It’s a pleasure.,...   \n",
       "0  [\\tThe sharing economy?, \\tYes., \\tOh just lik...   \n",
       "0  [\\tI would say that there is an element of ski...   \n",
       "0  [\\tIt does, yes., \\tSure., The sharing economy...   \n",
       "0  [\\tYes, but not in such a formal way., I think...   \n",
       "0  [\\tDon't know, I’m in some ways a bit doubtful...   \n",
       "0  [\\tAs in, are you talking about skill sharing ...   \n",
       "0  [\\tTuberculosis!, \\tYes it’s happening, it hap...   \n",
       "\n",
       "                                            All Text  \n",
       "0  I:\\tRight then, [REDACTED], thank you very muc...  \n",
       "0  I:\\tOkay this is an interview with BH.  Hello ...  \n",
       "0  I:\\tIt’s kind of a bit like proof that it’s [u...  \n",
       "0  I:\\tOkay, I’ll explain what I’m working, it’s ...  \n",
       "0  I:\\tOkay we’re recording.  So EW, thank you ve...  \n",
       "0  I:\\tSo good morning EZ.\\n\\nR:\\tGood morning Wi...  \n",
       "0  I:\\tI think the first question is, do you beli...  \n",
       "0  I:\\tRight it’s going.  Good morning JC.  Thank...  \n",
       "0  I:\\t…really quickly.  Okay, this first thing i...  \n",
       "0  I:\\tI’m a member of a research team from UCL e...  \n",
       "0  I:\\tThank you for agreeing to this.  I’m a mem...  \n",
       "0  I:\\tI am a member of a research team from UCL ...  \n",
       "0  I:\\tSo this is called the Institute of Global ...  \n",
       "0  I:\\tOkay.  So question number one, I think I’v...  \n",
       "0  I:\\t[REDACTED]  Interview is anonymous, TB.\\n\\...  "
      ]
     },
     "execution_count": 194,
     "metadata": {},
     "output_type": "execute_result"
    }
   ],
   "source": [
    "for filename in files:\n",
    "    with open(path+filename) as file:\n",
    "        data = file.read().decode('utf-8')\n",
    "    split = splitInterview(data)\n",
    "    row = pd.DataFrame([filename, split[0], split[1], data]).transpose()\n",
    "    row.columns = text.columns.values\n",
    "    #row.set_index('ID')\n",
    "    text = text.append(row)\n",
    "text.reset_index()\n",
    "text.head(16)\n"
   ]
  },
  {
   "cell_type": "code",
   "execution_count": 196,
   "metadata": {
    "collapsed": false
   },
   "outputs": [],
   "source": [
    " text.to_csv('data/interviews.csv' ,  index = False, encoding = 'utf-8')"
   ]
  },
  {
   "cell_type": "code",
   "execution_count": null,
   "metadata": {
    "collapsed": true
   },
   "outputs": [],
   "source": []
  }
 ],
 "metadata": {
  "kernelspec": {
   "display_name": "Python 2",
   "language": "python",
   "name": "python2"
  },
  "language_info": {
   "codemirror_mode": {
    "name": "ipython",
    "version": 2
   },
   "file_extension": ".py",
   "mimetype": "text/x-python",
   "name": "python",
   "nbconvert_exporter": "python",
   "pygments_lexer": "ipython2",
   "version": "2.7.11"
  }
 },
 "nbformat": 4,
 "nbformat_minor": 0
}
