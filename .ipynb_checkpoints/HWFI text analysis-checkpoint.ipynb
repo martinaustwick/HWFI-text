{
 "cells": [
  {
   "cell_type": "code",
   "execution_count": 4,
   "metadata": {
    "collapsed": false
   },
   "outputs": [],
   "source": [
    "from os import listdir\n",
    "import nltk\n",
    "path = '/Volumes/Intreview Transcriptions/text_for_transcribing/'\n",
    "#This text is private, so is mounted via a password-protected disk image."
   ]
  },
  {
   "cell_type": "code",
   "execution_count": 5,
   "metadata": {
    "collapsed": false
   },
   "outputs": [
    {
     "data": {
      "text/plain": [
       "['.DS_Store',\n",
       " 'AW.txt',\n",
       " 'BH.txt',\n",
       " 'DU.txt',\n",
       " 'EL.txt',\n",
       " 'EW.txt',\n",
       " 'EZ.txt',\n",
       " 'GI.txt',\n",
       " 'JC.txt',\n",
       " 'LU.txt',\n",
       " 'MF.txt',\n",
       " 'NV.txt',\n",
       " 'PA.txt',\n",
       " 'RU.txt',\n",
       " 'ST.txt',\n",
       " 'TB.txt']"
      ]
     },
     "execution_count": 5,
     "metadata": {},
     "output_type": "execute_result"
    }
   ],
   "source": [
    "listdir(path)"
   ]
  },
  {
   "cell_type": "code",
   "execution_count": 8,
   "metadata": {
    "collapsed": false
   },
   "outputs": [
    {
     "data": {
      "text/plain": [
       "str"
      ]
     },
     "execution_count": 8,
     "metadata": {},
     "output_type": "execute_result"
    }
   ],
   "source": [
    "#test with a single file\n",
    "with open(path+'AW.txt') as file:\n",
    "    data = file.read()\n",
    "#print data\n",
    "type(data)"
   ]
  },
  {
   "cell_type": "code",
   "execution_count": 9,
   "metadata": {
    "collapsed": true
   },
   "outputs": [],
   "source": [
    "def splitInterview (str):\n",
    "    #this splits an interview into interviewee and interviewer\n",
    "    for token in str:\n",
    "        print token"
   ]
  },
  {
   "cell_type": "code",
   "execution_count": null,
   "metadata": {
    "collapsed": true
   },
   "outputs": [],
   "source": []
  }
 ],
 "metadata": {
  "kernelspec": {
   "display_name": "Python 2",
   "language": "python",
   "name": "python2"
  },
  "language_info": {
   "codemirror_mode": {
    "name": "ipython",
    "version": 2
   },
   "file_extension": ".py",
   "mimetype": "text/x-python",
   "name": "python",
   "nbconvert_exporter": "python",
   "pygments_lexer": "ipython2",
   "version": "2.7.11"
  }
 },
 "nbformat": 4,
 "nbformat_minor": 0
}
